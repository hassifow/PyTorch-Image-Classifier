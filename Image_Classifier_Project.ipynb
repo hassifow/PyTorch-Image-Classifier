{
 "cells": [
  {
   "cell_type": "markdown",
   "metadata": {
    "colab_type": "text",
    "id": "faL6rOJ97Rxr"
   },
   "source": [
    "# Developing an AI application\n",
    "\n",
    "Going forward, AI algorithms will be incorporated into more and more everyday applications. For example, you might want to include an image classifier in a smart phone app. To do this, you'd use a deep learning model trained on hundreds of thousands of images as part of the overall application architecture. A large part of software development in the future will be using these types of models as common parts of applications. \n",
    "\n",
    "In this project, you'll train an image classifier to recognize different species of flowers. You can imagine using something like this in a phone app that tells you the name of the flower your camera is looking at. In practice you'd train this classifier, then export it for use in your application. We'll be using [this dataset](http://www.robots.ox.ac.uk/~vgg/data/flowers/102/index.html) of 102 flower categories, you can see a few examples below. \n",
    "\n",
    "<img src='assets/Flowers.png' width=500px>\n",
    "\n",
    "The project is broken down into multiple steps:\n",
    "\n",
    "* Load and preprocess the image dataset\n",
    "* Train the image classifier on your dataset\n",
    "* Use the trained classifier to predict image content\n",
    "\n",
    "We'll lead you through each part which you'll implement in Python.\n",
    "\n",
    "When you've completed this project, you'll have an application that can be trained on any set of labeled images. Here your network will be learning about flowers and end up as a command line application. But, what you do with your new skills depends on your imagination and effort in building a dataset. For example, imagine an app where you take a picture of a car, it tells you what the make and model is, then looks up information about it. Go build your own dataset and make something new.\n",
    "\n",
    "First up is importing the packages you'll need. It's good practice to keep all the imports at the beginning of your code. As you work through this notebook and find you need to import a package, make sure to add the import up here.\n",
    "\n",
    "Please make sure if you are running this notebook in the workspace that you have chosen GPU rather than CPU mode."
   ]
  },
  {
   "cell_type": "code",
   "execution_count": null,
   "metadata": {
    "colab": {},
    "colab_type": "code",
    "id": "tNlu7wN17mj8"
   },
   "outputs": [],
   "source": [
    "# google colab does not come with torch installed. And also, in course we are using torch 0.4. \n",
    "# so following snippet of code installs the relevant version\n",
    "\n",
    "from os.path import exists\n",
    "from wheel.pep425tags import get_abbr_impl, get_impl_ver, get_abi_tag\n",
    "platform = '{}{}-{}'.format(get_abbr_impl(), get_impl_ver(), get_abi_tag())\n",
    "cuda_output = !ldconfig -p|grep cudart.so|sed -e 's/.*\\.\\([0-9]*\\)\\.\\([0-9]*\\)$/cu\\1\\2/'\n",
    "accelerator = cuda_output[0] if exists('/dev/nvidia0') else 'cpu'\n",
    "\n",
    "!pip install -q http://download.pytorch.org/whl/{accelerator}/torch-0.4.1-{platform}-linux_x86_64.whl torchvision\n",
    "import torch"
   ]
  },
  {
   "cell_type": "code",
   "execution_count": 2,
   "metadata": {
    "colab": {
     "base_uri": "https://localhost:8080/",
     "height": 34
    },
    "colab_type": "code",
    "id": "twX2GkiP7n8F",
    "outputId": "f7bd36c1-f322-4b46-bb53-d97a8860ed5f"
   },
   "outputs": [
    {
     "name": "stdout",
     "output_type": "stream",
     "text": [
      "CUDA is available!  Training on GPU ...\n"
     ]
    }
   ],
   "source": [
    "\n",
    "# we will verify that GPU is enabled for this notebook\n",
    "# following should print: CUDA is available!  Training on GPU ...\n",
    "# \n",
    "# if it prints otherwise, then you need to enable GPU: \n",
    "# from Menu > Runtime > Change Runtime Type > Hardware Accelerator > GPU\n",
    "\n",
    "import torch\n",
    "import numpy as np\n",
    "\n",
    "# check if CUDA is available\n",
    "train_on_gpu = torch.cuda.is_available()\n",
    "\n",
    "if not train_on_gpu:\n",
    "    print('CUDA is not available.  Training on CPU ...')\n",
    "else:\n",
    "    print('CUDA is available!  Training on GPU ...')"
   ]
  },
  {
   "cell_type": "code",
   "execution_count": 3,
   "metadata": {
    "colab": {
     "base_uri": "https://localhost:8080/",
     "height": 216
    },
    "colab_type": "code",
    "id": "IqoV-dfM7sQB",
    "outputId": "6939c3fc-094f-4f56-9864-380152c706a6"
   },
   "outputs": [
    {
     "name": "stdout",
     "output_type": "stream",
     "text": [
      "Uninstalling Pillow-5.3.0:\n",
      "  Successfully uninstalled Pillow-5.3.0\n",
      "Collecting Pillow==5.3.0\n",
      "  Using cached https://files.pythonhosted.org/packages/9a/f6/3b3c82c5c75cae471e02fb584136168d732e17ae9db2d21c5dc82f9790f8/Pillow-5.3.0-cp27-cp27mu-manylinux1_x86_64.whl\n",
      "Installing collected packages: Pillow\n",
      "Successfully installed Pillow-5.3.0\n",
      "5.3.0\n"
     ]
    }
   ],
   "source": [
    "# we need pillow version of 5.3.0\n",
    "# we will uninstall the older version first\n",
    "!pip uninstall -y Pillow\n",
    "# install the new one\n",
    "!pip install Pillow==5.3.0\n",
    "# import the new one\n",
    "import PIL\n",
    "print(PIL.PILLOW_VERSION)\n",
    "# this should print 5.3.0. If it doesn't, then restart your runtime:\n",
    "# Menu > Runtime > Restart Runtime"
   ]
  },
  {
   "cell_type": "code",
   "execution_count": null,
   "metadata": {
    "colab": {},
    "colab_type": "code",
    "id": "6iyjDo_37Rxs"
   },
   "outputs": [],
   "source": [
    "# Imports\n",
    "%matplotlib inline\n",
    "%config InlineBackend.figure_format = 'retina'\n",
    "\n",
    "import matplotlib.pyplot as plt\n",
    "from torch import nn\n",
    "from torch import optim\n",
    "import torch.nn.functional as F\n",
    "from torchvision import datasets, transforms, models\n",
    "from collections import OrderedDict\n",
    "import time\n",
    "from PIL import Image\n",
    "import json\n",
    "import torchvision"
   ]
  },
  {
   "cell_type": "markdown",
   "metadata": {
    "colab_type": "text",
    "id": "zu9fytZO7Rx0"
   },
   "source": [
    "## Load the data\n",
    "\n",
    "Here you'll use `torchvision` to load the data ([documentation](http://pytorch.org/docs/0.3.0/torchvision/index.html)). The data should be included alongside this notebook, otherwise you can [download it here](https://s3.amazonaws.com/content.udacity-data.com/nd089/flower_data.tar.gz). The dataset is split into three parts, training, validation, and testing. For the training, you'll want to apply transformations such as random scaling, cropping, and flipping. This will help the network generalize leading to better performance. You'll also need to make sure the input data is resized to 224x224 pixels as required by the pre-trained networks.\n",
    "\n",
    "The validation and testing sets are used to measure the model's performance on data it hasn't seen yet. For this you don't want any scaling or rotation transformations, but you'll need to resize then crop the images to the appropriate size.\n",
    "\n",
    "The pre-trained networks you'll use were trained on the ImageNet dataset where each color channel was normalized separately. For all three sets you'll need to normalize the means and standard deviations of the images to what the network expects. For the means, it's `[0.485, 0.456, 0.406]` and for the standard deviations `[0.229, 0.224, 0.225]`, calculated from the ImageNet images.  These values will shift each color channel to be centered at 0 and range from -1 to 1.\n",
    " "
   ]
  },
  {
   "cell_type": "code",
   "execution_count": null,
   "metadata": {
    "colab": {},
    "colab_type": "code",
    "id": "QbC0qwng7Rx1"
   },
   "outputs": [],
   "source": [
    "# we will download the required data files only if you don't want to download the image manually on your folder\n",
    "!wget -cq https://github.com/udacity/pytorch_challenge/raw/master/cat_to_name.json\n",
    "!wget -cq https://s3.amazonaws.com/content.udacity-data.com/courses/nd188/flower_data.zip\n",
    "!rm -r flower_data || true\n",
    "!unzip -qq flower_data.zip\n",
    "\n",
    "!wget -cq https://github.com/cahya-wirawan/Udacity-Course/blob/master/flower_test.tgz\n",
    "!tar -xvf flower_test.tgz \n",
    "\n"
   ]
  },
  {
   "cell_type": "code",
   "execution_count": null,
   "metadata": {
    "colab": {},
    "colab_type": "code",
    "id": "NOQYLqRq_rzH"
   },
   "outputs": [],
   "source": [
    "data_dir = 'flower_data'\n",
    "train_dir = data_dir + '/train'\n",
    "valid_dir = data_dir + '/valid'\n",
    "test_dir  = data_dir + '/flower_test'"
   ]
  },
  {
   "cell_type": "code",
   "execution_count": null,
   "metadata": {
    "colab": {},
    "colab_type": "code",
    "id": "pWJa72we7Rx5"
   },
   "outputs": [],
   "source": [
    "# Transforms for the training, validation, and testing sets\n",
    "train_transforms = transforms.Compose([transforms.RandomRotation(30),\n",
    "                                       transforms.RandomResizedCrop(224),\n",
    "                                       transforms.RandomHorizontalFlip(),\n",
    "                                       transforms.ToTensor(),\n",
    "                                       transforms.Normalize([0.485, 0.456, 0.406], \n",
    "                                                            [0.229, 0.224, 0.225])])\n",
    "\n",
    "test_transforms = transforms.Compose([transforms.Resize(256),\n",
    "                                      transforms.CenterCrop(224),\n",
    "                                      transforms.ToTensor(),\n",
    "                                      transforms.Normalize([0.485, 0.456, 0.406], \n",
    "                                                           [0.229, 0.224, 0.225])])\n",
    "valid_transforms = transforms.Compose([transforms.Resize(256),\n",
    "                                      transforms.CenterCrop(224),\n",
    "                                      transforms.ToTensor(),\n",
    "                                      transforms.Normalize([0.485, 0.456, 0.406], \n",
    "                                                           [0.229, 0.224, 0.225])])\n",
    "\n",
    "# Load the datasets with ImageFolder\n",
    "\n",
    "train_data = datasets.ImageFolder(train_dir, transform=train_transforms)\n",
    "test_data = datasets.ImageFolder(test_dir, transform=test_transforms)\n",
    "valid_data = datasets.ImageFolder(valid_dir, transform=test_transforms)\n",
    "\n",
    "\n",
    "#Using the image datasets and the trainforms, define the dataloaders\n",
    "\n",
    "trainloader = torch.utils.data.DataLoader(train_data, batch_size=64, shuffle=True)\n",
    "testloader = torch.utils.data.DataLoader(test_data, batch_size=32)\n",
    "validloader = torch.utils.data.DataLoader(valid_data, batch_size=32)"
   ]
  },
  {
   "cell_type": "code",
   "execution_count": 8,
   "metadata": {
    "colab": {
     "base_uri": "https://localhost:8080/",
     "height": 34
    },
    "colab_type": "code",
    "id": "cFAaG3Q27Rx8",
    "outputId": "389e27fa-3c98-4177-df0c-20bfa6167e40"
   },
   "outputs": [
    {
     "data": {
      "text/plain": [
       "<torch.utils.data.dataloader.DataLoader at 0x7f3cb1e7f990>"
      ]
     },
     "execution_count": 8,
     "metadata": {
      "tags": []
     },
     "output_type": "execute_result"
    }
   ],
   "source": [
    "trainloader"
   ]
  },
  {
   "cell_type": "code",
   "execution_count": null,
   "metadata": {
    "colab": {},
    "colab_type": "code",
    "id": "W733Jdns7RyD"
   },
   "outputs": [],
   "source": []
  },
  {
   "cell_type": "markdown",
   "metadata": {
    "colab_type": "text",
    "id": "GPUuCygt7RyF"
   },
   "source": [
    "### Label mapping\n",
    "\n",
    "You'll also need to load in a mapping from category label to category name. You can find this in the file `cat_to_name.json`. It's a JSON object which you can read in with the [`json` module](https://docs.python.org/2/library/json.html). This will give you a dictionary mapping the integer encoded categories to the actual names of the flowers."
   ]
  },
  {
   "cell_type": "code",
   "execution_count": null,
   "metadata": {
    "colab": {},
    "colab_type": "code",
    "id": "pzeu26YL7RyH"
   },
   "outputs": [],
   "source": [
    "with open('cat_to_name.json', 'r') as f:\n",
    "    cat_to_name = json.load(f)"
   ]
  },
  {
   "cell_type": "markdown",
   "metadata": {
    "colab_type": "text",
    "id": "70MaxWQt7RyJ"
   },
   "source": [
    "# Building and training the classifier\n",
    "\n",
    "Now that the data is ready, it's time to build and train the classifier. As usual, you should use one of the pretrained models from `torchvision.models` to get the image features. Build and train a new feed-forward classifier using those features.\n",
    "\n",
    "We're going to leave this part up to you. Refer to [the rubric](https://review.udacity.com/#!/rubrics/1663/view) for guidance on successfully completing this section. Things you'll need to do:\n",
    "\n",
    "* Load a [pre-trained network](http://pytorch.org/docs/master/torchvision/models.html) (If you need a starting point, the VGG networks work great and are straightforward to use)\n",
    "* Define a new, untrained feed-forward network as a classifier, using ReLU activations and dropout\n",
    "* Train the classifier layers using backpropagation using the pre-trained network to get the features\n",
    "* Track the loss and accuracy on the validation set to determine the best hyperparameters\n",
    "\n",
    "We've left a cell open for you below, but use as many as you need. Our advice is to break the problem up into smaller parts you can run separately. Check that each part is doing what you expect, then move on to the next. You'll likely find that as you work through each part, you'll need to go back and modify your previous code. This is totally normal!\n",
    "\n",
    "When training make sure you're updating only the weights of the feed-forward network. You should be able to get the validation accuracy above 70% if you build everything right. Make sure to try different hyperparameters (learning rate, units in the classifier, epochs, etc) to find the best model. Save those hyperparameters to use as default values in the next part of the project.\n",
    "\n",
    "One last important tip if you're using the workspace to run your code: To avoid having your workspace disconnect during the long-running tasks in this notebook, please read in the earlier page in this lesson called Intro to GPU Workspaces about Keeping Your Session Active. You'll want to include code from the workspace_utils.py module."
   ]
  },
  {
   "cell_type": "code",
   "execution_count": 10,
   "metadata": {
    "colab": {
     "base_uri": "https://localhost:8080/",
     "height": 765
    },
    "colab_type": "code",
    "id": "YqZ4JVPw7RyK",
    "outputId": "e55a3519-bfb0-473b-ab49-21ca1a58be20"
   },
   "outputs": [
    {
     "data": {
      "text/plain": [
       "VGG(\n",
       "  (features): Sequential(\n",
       "    (0): Conv2d(3, 64, kernel_size=(3, 3), stride=(1, 1), padding=(1, 1))\n",
       "    (1): ReLU(inplace)\n",
       "    (2): Conv2d(64, 64, kernel_size=(3, 3), stride=(1, 1), padding=(1, 1))\n",
       "    (3): ReLU(inplace)\n",
       "    (4): MaxPool2d(kernel_size=2, stride=2, padding=0, dilation=1, ceil_mode=False)\n",
       "    (5): Conv2d(64, 128, kernel_size=(3, 3), stride=(1, 1), padding=(1, 1))\n",
       "    (6): ReLU(inplace)\n",
       "    (7): Conv2d(128, 128, kernel_size=(3, 3), stride=(1, 1), padding=(1, 1))\n",
       "    (8): ReLU(inplace)\n",
       "    (9): MaxPool2d(kernel_size=2, stride=2, padding=0, dilation=1, ceil_mode=False)\n",
       "    (10): Conv2d(128, 256, kernel_size=(3, 3), stride=(1, 1), padding=(1, 1))\n",
       "    (11): ReLU(inplace)\n",
       "    (12): Conv2d(256, 256, kernel_size=(3, 3), stride=(1, 1), padding=(1, 1))\n",
       "    (13): ReLU(inplace)\n",
       "    (14): Conv2d(256, 256, kernel_size=(3, 3), stride=(1, 1), padding=(1, 1))\n",
       "    (15): ReLU(inplace)\n",
       "    (16): MaxPool2d(kernel_size=2, stride=2, padding=0, dilation=1, ceil_mode=False)\n",
       "    (17): Conv2d(256, 512, kernel_size=(3, 3), stride=(1, 1), padding=(1, 1))\n",
       "    (18): ReLU(inplace)\n",
       "    (19): Conv2d(512, 512, kernel_size=(3, 3), stride=(1, 1), padding=(1, 1))\n",
       "    (20): ReLU(inplace)\n",
       "    (21): Conv2d(512, 512, kernel_size=(3, 3), stride=(1, 1), padding=(1, 1))\n",
       "    (22): ReLU(inplace)\n",
       "    (23): MaxPool2d(kernel_size=2, stride=2, padding=0, dilation=1, ceil_mode=False)\n",
       "    (24): Conv2d(512, 512, kernel_size=(3, 3), stride=(1, 1), padding=(1, 1))\n",
       "    (25): ReLU(inplace)\n",
       "    (26): Conv2d(512, 512, kernel_size=(3, 3), stride=(1, 1), padding=(1, 1))\n",
       "    (27): ReLU(inplace)\n",
       "    (28): Conv2d(512, 512, kernel_size=(3, 3), stride=(1, 1), padding=(1, 1))\n",
       "    (29): ReLU(inplace)\n",
       "    (30): MaxPool2d(kernel_size=2, stride=2, padding=0, dilation=1, ceil_mode=False)\n",
       "  )\n",
       "  (classifier): Sequential(\n",
       "    (0): Linear(in_features=25088, out_features=4096, bias=True)\n",
       "    (1): ReLU(inplace)\n",
       "    (2): Dropout(p=0.5)\n",
       "    (3): Linear(in_features=4096, out_features=4096, bias=True)\n",
       "    (4): ReLU(inplace)\n",
       "    (5): Dropout(p=0.5)\n",
       "    (6): Linear(in_features=4096, out_features=1000, bias=True)\n",
       "  )\n",
       ")"
      ]
     },
     "execution_count": 10,
     "metadata": {
      "tags": []
     },
     "output_type": "execute_result"
    }
   ],
   "source": [
    "arch = 'vgg16'\n",
    "# TODO: Build and train your network\n",
    "model = models.vgg16(pretrained=True)\n",
    "model"
   ]
  },
  {
   "cell_type": "code",
   "execution_count": null,
   "metadata": {
    "colab": {},
    "colab_type": "code",
    "id": "8Kqa6ZdA7RyP"
   },
   "outputs": [],
   "source": []
  },
  {
   "cell_type": "code",
   "execution_count": null,
   "metadata": {
    "colab": {},
    "colab_type": "code",
    "id": "xVV11Zm-7RyS"
   },
   "outputs": [],
   "source": [
    "# Freeze parameters so we don't backprop through them\n",
    "for param in model.parameters():\n",
    "    param.requires_grad = False\n",
    "\n",
    "input_size = model.classifier[0].in_features\n",
    "hidden_size = 1000 \n",
    "output_size = 102 \n",
    "dropout_per = 0.25\n",
    "\n",
    "classifier = nn.Sequential(OrderedDict([\n",
    "                          ('fc1', nn.Linear(input_size, hidden_size)),\n",
    "                          ('relu1', nn.ReLU()),\n",
    "                          ('dropout', nn.Dropout(dropout_per)),\n",
    "                          ('fc2', nn.Linear(hidden_size, output_size)),\n",
    "                          ('output', nn.LogSoftmax(dim=1))\n",
    "                          ]))\n",
    "    \n",
    "model.classifier = classifier"
   ]
  },
  {
   "cell_type": "code",
   "execution_count": 12,
   "metadata": {
    "colab": {
     "base_uri": "https://localhost:8080/",
     "height": 136
    },
    "colab_type": "code",
    "id": "ETj2raZo7RyU",
    "outputId": "2b929145-ff76-43ca-a714-882772211c41"
   },
   "outputs": [
    {
     "data": {
      "text/plain": [
       "Sequential(\n",
       "  (fc1): Linear(in_features=25088, out_features=1000, bias=True)\n",
       "  (relu1): ReLU()\n",
       "  (dropout): Dropout(p=0.25)\n",
       "  (fc2): Linear(in_features=1000, out_features=102, bias=True)\n",
       "  (output): LogSoftmax()\n",
       ")"
      ]
     },
     "execution_count": 12,
     "metadata": {
      "tags": []
     },
     "output_type": "execute_result"
    }
   ],
   "source": [
    "\n",
    "classifier"
   ]
  },
  {
   "cell_type": "code",
   "execution_count": 13,
   "metadata": {
    "colab": {
     "base_uri": "https://localhost:8080/",
     "height": 731
    },
    "colab_type": "code",
    "id": "XnARySTU7RyX",
    "outputId": "339ae9ec-40de-42fb-ba60-740f0a4a1c7f"
   },
   "outputs": [
    {
     "data": {
      "text/plain": [
       "VGG(\n",
       "  (features): Sequential(\n",
       "    (0): Conv2d(3, 64, kernel_size=(3, 3), stride=(1, 1), padding=(1, 1))\n",
       "    (1): ReLU(inplace)\n",
       "    (2): Conv2d(64, 64, kernel_size=(3, 3), stride=(1, 1), padding=(1, 1))\n",
       "    (3): ReLU(inplace)\n",
       "    (4): MaxPool2d(kernel_size=2, stride=2, padding=0, dilation=1, ceil_mode=False)\n",
       "    (5): Conv2d(64, 128, kernel_size=(3, 3), stride=(1, 1), padding=(1, 1))\n",
       "    (6): ReLU(inplace)\n",
       "    (7): Conv2d(128, 128, kernel_size=(3, 3), stride=(1, 1), padding=(1, 1))\n",
       "    (8): ReLU(inplace)\n",
       "    (9): MaxPool2d(kernel_size=2, stride=2, padding=0, dilation=1, ceil_mode=False)\n",
       "    (10): Conv2d(128, 256, kernel_size=(3, 3), stride=(1, 1), padding=(1, 1))\n",
       "    (11): ReLU(inplace)\n",
       "    (12): Conv2d(256, 256, kernel_size=(3, 3), stride=(1, 1), padding=(1, 1))\n",
       "    (13): ReLU(inplace)\n",
       "    (14): Conv2d(256, 256, kernel_size=(3, 3), stride=(1, 1), padding=(1, 1))\n",
       "    (15): ReLU(inplace)\n",
       "    (16): MaxPool2d(kernel_size=2, stride=2, padding=0, dilation=1, ceil_mode=False)\n",
       "    (17): Conv2d(256, 512, kernel_size=(3, 3), stride=(1, 1), padding=(1, 1))\n",
       "    (18): ReLU(inplace)\n",
       "    (19): Conv2d(512, 512, kernel_size=(3, 3), stride=(1, 1), padding=(1, 1))\n",
       "    (20): ReLU(inplace)\n",
       "    (21): Conv2d(512, 512, kernel_size=(3, 3), stride=(1, 1), padding=(1, 1))\n",
       "    (22): ReLU(inplace)\n",
       "    (23): MaxPool2d(kernel_size=2, stride=2, padding=0, dilation=1, ceil_mode=False)\n",
       "    (24): Conv2d(512, 512, kernel_size=(3, 3), stride=(1, 1), padding=(1, 1))\n",
       "    (25): ReLU(inplace)\n",
       "    (26): Conv2d(512, 512, kernel_size=(3, 3), stride=(1, 1), padding=(1, 1))\n",
       "    (27): ReLU(inplace)\n",
       "    (28): Conv2d(512, 512, kernel_size=(3, 3), stride=(1, 1), padding=(1, 1))\n",
       "    (29): ReLU(inplace)\n",
       "    (30): MaxPool2d(kernel_size=2, stride=2, padding=0, dilation=1, ceil_mode=False)\n",
       "  )\n",
       "  (classifier): Sequential(\n",
       "    (fc1): Linear(in_features=25088, out_features=1000, bias=True)\n",
       "    (relu1): ReLU()\n",
       "    (dropout): Dropout(p=0.25)\n",
       "    (fc2): Linear(in_features=1000, out_features=102, bias=True)\n",
       "    (output): LogSoftmax()\n",
       "  )\n",
       ")"
      ]
     },
     "execution_count": 13,
     "metadata": {
      "tags": []
     },
     "output_type": "execute_result"
    }
   ],
   "source": [
    "force_processor = 'cuda' \n",
    "processor = ('cuda' if torch.cuda.is_available() and force_processor == 'cuda' else 'cpu')\n",
    "model.to(processor)"
   ]
  },
  {
   "cell_type": "code",
   "execution_count": 14,
   "metadata": {
    "colab": {
     "base_uri": "https://localhost:8080/",
     "height": 731
    },
    "colab_type": "code",
    "id": "KugEmb2H7RyZ",
    "outputId": "da4aa919-eabd-4bc2-a202-280d7dfeaf7c"
   },
   "outputs": [
    {
     "data": {
      "text/plain": [
       "VGG(\n",
       "  (features): Sequential(\n",
       "    (0): Conv2d(3, 64, kernel_size=(3, 3), stride=(1, 1), padding=(1, 1))\n",
       "    (1): ReLU(inplace)\n",
       "    (2): Conv2d(64, 64, kernel_size=(3, 3), stride=(1, 1), padding=(1, 1))\n",
       "    (3): ReLU(inplace)\n",
       "    (4): MaxPool2d(kernel_size=2, stride=2, padding=0, dilation=1, ceil_mode=False)\n",
       "    (5): Conv2d(64, 128, kernel_size=(3, 3), stride=(1, 1), padding=(1, 1))\n",
       "    (6): ReLU(inplace)\n",
       "    (7): Conv2d(128, 128, kernel_size=(3, 3), stride=(1, 1), padding=(1, 1))\n",
       "    (8): ReLU(inplace)\n",
       "    (9): MaxPool2d(kernel_size=2, stride=2, padding=0, dilation=1, ceil_mode=False)\n",
       "    (10): Conv2d(128, 256, kernel_size=(3, 3), stride=(1, 1), padding=(1, 1))\n",
       "    (11): ReLU(inplace)\n",
       "    (12): Conv2d(256, 256, kernel_size=(3, 3), stride=(1, 1), padding=(1, 1))\n",
       "    (13): ReLU(inplace)\n",
       "    (14): Conv2d(256, 256, kernel_size=(3, 3), stride=(1, 1), padding=(1, 1))\n",
       "    (15): ReLU(inplace)\n",
       "    (16): MaxPool2d(kernel_size=2, stride=2, padding=0, dilation=1, ceil_mode=False)\n",
       "    (17): Conv2d(256, 512, kernel_size=(3, 3), stride=(1, 1), padding=(1, 1))\n",
       "    (18): ReLU(inplace)\n",
       "    (19): Conv2d(512, 512, kernel_size=(3, 3), stride=(1, 1), padding=(1, 1))\n",
       "    (20): ReLU(inplace)\n",
       "    (21): Conv2d(512, 512, kernel_size=(3, 3), stride=(1, 1), padding=(1, 1))\n",
       "    (22): ReLU(inplace)\n",
       "    (23): MaxPool2d(kernel_size=2, stride=2, padding=0, dilation=1, ceil_mode=False)\n",
       "    (24): Conv2d(512, 512, kernel_size=(3, 3), stride=(1, 1), padding=(1, 1))\n",
       "    (25): ReLU(inplace)\n",
       "    (26): Conv2d(512, 512, kernel_size=(3, 3), stride=(1, 1), padding=(1, 1))\n",
       "    (27): ReLU(inplace)\n",
       "    (28): Conv2d(512, 512, kernel_size=(3, 3), stride=(1, 1), padding=(1, 1))\n",
       "    (29): ReLU(inplace)\n",
       "    (30): MaxPool2d(kernel_size=2, stride=2, padding=0, dilation=1, ceil_mode=False)\n",
       "  )\n",
       "  (classifier): Sequential(\n",
       "    (fc1): Linear(in_features=25088, out_features=1000, bias=True)\n",
       "    (relu1): ReLU()\n",
       "    (dropout): Dropout(p=0.25)\n",
       "    (fc2): Linear(in_features=1000, out_features=102, bias=True)\n",
       "    (output): LogSoftmax()\n",
       "  )\n",
       ")"
      ]
     },
     "execution_count": 14,
     "metadata": {
      "tags": []
     },
     "output_type": "execute_result"
    }
   ],
   "source": [
    "epochs = 10\n",
    "print_every = 10\n",
    "steps = 0\n",
    "learning_rate = 0.001\n",
    "criterion = nn.NLLLoss()\n",
    "optimizer = optim.Adam(model.classifier.parameters(), lr=learning_rate)\n",
    "model.to(processor)"
   ]
  },
  {
   "cell_type": "code",
   "execution_count": 15,
   "metadata": {
    "colab": {
     "base_uri": "https://localhost:8080/",
     "height": 153
    },
    "colab_type": "code",
    "id": "nEzha8Fb7Ryd",
    "outputId": "7e7d6d41-753a-4c79-c66e-ad876e1f4259"
   },
   "outputs": [
    {
     "data": {
      "text/plain": [
       "Adam (\n",
       "Parameter Group 0\n",
       "    amsgrad: False\n",
       "    betas: (0.9, 0.999)\n",
       "    eps: 1e-08\n",
       "    lr: 0.001\n",
       "    weight_decay: 0\n",
       ")"
      ]
     },
     "execution_count": 15,
     "metadata": {
      "tags": []
     },
     "output_type": "execute_result"
    }
   ],
   "source": [
    "optimizer"
   ]
  },
  {
   "cell_type": "code",
   "execution_count": null,
   "metadata": {
    "colab": {},
    "colab_type": "code",
    "id": "3B9eS8t37Ryg"
   },
   "outputs": [],
   "source": [
    "# Implement a function for the validation pass\n",
    "def validation(model, testloader, criterion):\n",
    "    test_loss = 0\n",
    "    accuracy = 0\n",
    "    for images, labels in testloader:\n",
    "        images = images.to(processor)\n",
    "        labels = labels.to(processor)\n",
    "        \n",
    "        output = model.forward(images)\n",
    "        test_loss += criterion(output, labels).item()\n",
    "\n",
    "        ps = torch.exp(output)\n",
    "        equality = (labels.data == ps.max(dim=1)[1])\n",
    "        accuracy += equality.type(torch.FloatTensor).mean()\n",
    "    \n",
    "    return test_loss, accuracy"
   ]
  },
  {
   "cell_type": "code",
   "execution_count": 17,
   "metadata": {
    "colab": {
     "base_uri": "https://localhost:8080/",
     "height": 1785
    },
    "colab_type": "code",
    "id": "CFGH6SzB7Ryj",
    "outputId": "45906210-4502-462a-a888-18b6ad6d20cf"
   },
   "outputs": [
    {
     "name": "stdout",
     "output_type": "stream",
     "text": [
      "('Epoch: 1/10.. ', 'Training Loss: 4.887.. ', 'Test Loss: 3.478.. ', 'Test Accuracy: 0.270')\n",
      "('Epoch: 1/10.. ', 'Training Loss: 3.479.. ', 'Test Loss: 2.476.. ', 'Test Accuracy: 0.429')\n",
      "('Epoch: 1/10.. ', 'Training Loss: 2.641.. ', 'Test Loss: 1.769.. ', 'Test Accuracy: 0.565')\n",
      "('Epoch: 1/10.. ', 'Training Loss: 2.323.. ', 'Test Loss: 1.504.. ', 'Test Accuracy: 0.597')\n",
      "('Epoch: 1/10.. ', 'Training Loss: 2.025.. ', 'Test Loss: 1.170.. ', 'Test Accuracy: 0.686')\n",
      "('Epoch: 1/10.. ', 'Training Loss: 1.815.. ', 'Test Loss: 0.948.. ', 'Test Accuracy: 0.758')\n",
      "('Epoch: 1/10.. ', 'Training Loss: 1.849.. ', 'Test Loss: 1.024.. ', 'Test Accuracy: 0.734')\n",
      "('Epoch: 1/10.. ', 'Training Loss: 1.522.. ', 'Test Loss: 0.792.. ', 'Test Accuracy: 0.772')\n",
      "('Epoch: 1/10.. ', 'Training Loss: 1.522.. ', 'Test Loss: 0.750.. ', 'Test Accuracy: 0.801')\n",
      "('Epoch: 1/10.. ', 'Training Loss: 1.349.. ', 'Test Loss: 0.758.. ', 'Test Accuracy: 0.788')\n",
      "('Epoch: 2/10.. ', 'Training Loss: 0.793.. ', 'Test Loss: 0.768.. ', 'Test Accuracy: 0.798')\n",
      "('Epoch: 2/10.. ', 'Training Loss: 1.194.. ', 'Test Loss: 0.705.. ', 'Test Accuracy: 0.806')\n",
      "('Epoch: 2/10.. ', 'Training Loss: 1.138.. ', 'Test Loss: 0.675.. ', 'Test Accuracy: 0.824')\n",
      "('Epoch: 2/10.. ', 'Training Loss: 1.190.. ', 'Test Loss: 0.625.. ', 'Test Accuracy: 0.829')\n",
      "('Epoch: 2/10.. ', 'Training Loss: 1.140.. ', 'Test Loss: 0.625.. ', 'Test Accuracy: 0.828')\n",
      "('Epoch: 2/10.. ', 'Training Loss: 1.088.. ', 'Test Loss: 0.638.. ', 'Test Accuracy: 0.820')\n",
      "('Epoch: 2/10.. ', 'Training Loss: 1.096.. ', 'Test Loss: 0.643.. ', 'Test Accuracy: 0.826')\n",
      "('Epoch: 2/10.. ', 'Training Loss: 1.061.. ', 'Test Loss: 0.606.. ', 'Test Accuracy: 0.836')\n",
      "('Epoch: 2/10.. ', 'Training Loss: 1.110.. ', 'Test Loss: 0.614.. ', 'Test Accuracy: 0.833')\n",
      "('Epoch: 2/10.. ', 'Training Loss: 0.989.. ', 'Test Loss: 0.552.. ', 'Test Accuracy: 0.844')\n",
      "('Epoch: 3/10.. ', 'Training Loss: 0.362.. ', 'Test Loss: 0.603.. ', 'Test Accuracy: 0.833')\n",
      "('Epoch: 3/10.. ', 'Training Loss: 0.943.. ', 'Test Loss: 0.531.. ', 'Test Accuracy: 0.853')\n",
      "('Epoch: 3/10.. ', 'Training Loss: 1.033.. ', 'Test Loss: 0.500.. ', 'Test Accuracy: 0.874')\n",
      "('Epoch: 3/10.. ', 'Training Loss: 0.932.. ', 'Test Loss: 0.502.. ', 'Test Accuracy: 0.861')\n",
      "('Epoch: 3/10.. ', 'Training Loss: 1.003.. ', 'Test Loss: 0.538.. ', 'Test Accuracy: 0.848')\n",
      "('Epoch: 3/10.. ', 'Training Loss: 1.041.. ', 'Test Loss: 0.473.. ', 'Test Accuracy: 0.871')\n",
      "('Epoch: 3/10.. ', 'Training Loss: 0.944.. ', 'Test Loss: 0.548.. ', 'Test Accuracy: 0.855')\n",
      "('Epoch: 3/10.. ', 'Training Loss: 0.969.. ', 'Test Loss: 0.483.. ', 'Test Accuracy: 0.875')\n",
      "('Epoch: 3/10.. ', 'Training Loss: 0.885.. ', 'Test Loss: 0.535.. ', 'Test Accuracy: 0.862')\n",
      "('Epoch: 3/10.. ', 'Training Loss: 0.919.. ', 'Test Loss: 0.494.. ', 'Test Accuracy: 0.872')\n",
      "('Epoch: 4/10.. ', 'Training Loss: 0.085.. ', 'Test Loss: 0.514.. ', 'Test Accuracy: 0.869')\n",
      "('Epoch: 4/10.. ', 'Training Loss: 0.813.. ', 'Test Loss: 0.465.. ', 'Test Accuracy: 0.863')\n",
      "('Epoch: 4/10.. ', 'Training Loss: 0.782.. ', 'Test Loss: 0.448.. ', 'Test Accuracy: 0.885')\n",
      "('Epoch: 4/10.. ', 'Training Loss: 0.813.. ', 'Test Loss: 0.420.. ', 'Test Accuracy: 0.881')\n",
      "('Epoch: 4/10.. ', 'Training Loss: 0.862.. ', 'Test Loss: 0.428.. ', 'Test Accuracy: 0.884')\n",
      "('Epoch: 4/10.. ', 'Training Loss: 0.809.. ', 'Test Loss: 0.417.. ', 'Test Accuracy: 0.888')\n",
      "('Epoch: 4/10.. ', 'Training Loss: 0.837.. ', 'Test Loss: 0.404.. ', 'Test Accuracy: 0.898')\n",
      "('Epoch: 4/10.. ', 'Training Loss: 0.922.. ', 'Test Loss: 0.393.. ', 'Test Accuracy: 0.898')\n",
      "('Epoch: 4/10.. ', 'Training Loss: 0.943.. ', 'Test Loss: 0.403.. ', 'Test Accuracy: 0.883')\n",
      "('Epoch: 4/10.. ', 'Training Loss: 0.763.. ', 'Test Loss: 0.410.. ', 'Test Accuracy: 0.893')\n",
      "('Epoch: 4/10.. ', 'Training Loss: 0.920.. ', 'Test Loss: 0.438.. ', 'Test Accuracy: 0.874')\n",
      "('Epoch: 5/10.. ', 'Training Loss: 0.626.. ', 'Test Loss: 0.452.. ', 'Test Accuracy: 0.879')\n",
      "('Epoch: 5/10.. ', 'Training Loss: 0.817.. ', 'Test Loss: 0.450.. ', 'Test Accuracy: 0.874')\n",
      "('Epoch: 5/10.. ', 'Training Loss: 0.802.. ', 'Test Loss: 0.431.. ', 'Test Accuracy: 0.881')\n",
      "('Epoch: 5/10.. ', 'Training Loss: 0.794.. ', 'Test Loss: 0.393.. ', 'Test Accuracy: 0.898')\n",
      "('Epoch: 5/10.. ', 'Training Loss: 0.834.. ', 'Test Loss: 0.362.. ', 'Test Accuracy: 0.905')\n",
      "('Epoch: 5/10.. ', 'Training Loss: 0.754.. ', 'Test Loss: 0.409.. ', 'Test Accuracy: 0.893')\n",
      "('Epoch: 5/10.. ', 'Training Loss: 0.797.. ', 'Test Loss: 0.407.. ', 'Test Accuracy: 0.897')\n",
      "('Epoch: 5/10.. ', 'Training Loss: 0.749.. ', 'Test Loss: 0.381.. ', 'Test Accuracy: 0.903')\n",
      "('Epoch: 5/10.. ', 'Training Loss: 0.830.. ', 'Test Loss: 0.431.. ', 'Test Accuracy: 0.885')\n",
      "('Epoch: 5/10.. ', 'Training Loss: 0.881.. ', 'Test Loss: 0.451.. ', 'Test Accuracy: 0.893')\n",
      "('Epoch: 6/10.. ', 'Training Loss: 0.318.. ', 'Test Loss: 0.468.. ', 'Test Accuracy: 0.873')\n",
      "('Epoch: 6/10.. ', 'Training Loss: 0.787.. ', 'Test Loss: 0.399.. ', 'Test Accuracy: 0.908')\n",
      "('Epoch: 6/10.. ', 'Training Loss: 0.727.. ', 'Test Loss: 0.345.. ', 'Test Accuracy: 0.915')\n",
      "('Epoch: 6/10.. ', 'Training Loss: 0.757.. ', 'Test Loss: 0.358.. ', 'Test Accuracy: 0.906')\n",
      "('Epoch: 6/10.. ', 'Training Loss: 0.805.. ', 'Test Loss: 0.387.. ', 'Test Accuracy: 0.904')\n",
      "('Epoch: 6/10.. ', 'Training Loss: 0.913.. ', 'Test Loss: 0.437.. ', 'Test Accuracy: 0.885')\n",
      "('Epoch: 6/10.. ', 'Training Loss: 0.765.. ', 'Test Loss: 0.451.. ', 'Test Accuracy: 0.878')\n",
      "('Epoch: 6/10.. ', 'Training Loss: 0.877.. ', 'Test Loss: 0.415.. ', 'Test Accuracy: 0.896')\n",
      "('Epoch: 6/10.. ', 'Training Loss: 0.699.. ', 'Test Loss: 0.409.. ', 'Test Accuracy: 0.890')\n",
      "('Epoch: 6/10.. ', 'Training Loss: 0.718.. ', 'Test Loss: 0.376.. ', 'Test Accuracy: 0.891')\n",
      "('Epoch: 7/10.. ', 'Training Loss: 0.098.. ', 'Test Loss: 0.366.. ', 'Test Accuracy: 0.897')\n",
      "('Epoch: 7/10.. ', 'Training Loss: 0.660.. ', 'Test Loss: 0.427.. ', 'Test Accuracy: 0.891')\n",
      "('Epoch: 7/10.. ', 'Training Loss: 0.769.. ', 'Test Loss: 0.385.. ', 'Test Accuracy: 0.903')\n",
      "('Epoch: 7/10.. ', 'Training Loss: 0.684.. ', 'Test Loss: 0.431.. ', 'Test Accuracy: 0.891')\n",
      "('Epoch: 7/10.. ', 'Training Loss: 0.670.. ', 'Test Loss: 0.365.. ', 'Test Accuracy: 0.909')\n",
      "('Epoch: 7/10.. ', 'Training Loss: 0.676.. ', 'Test Loss: 0.402.. ', 'Test Accuracy: 0.897')\n",
      "('Epoch: 7/10.. ', 'Training Loss: 0.687.. ', 'Test Loss: 0.374.. ', 'Test Accuracy: 0.906')\n",
      "('Epoch: 7/10.. ', 'Training Loss: 0.686.. ', 'Test Loss: 0.345.. ', 'Test Accuracy: 0.907')\n",
      "('Epoch: 7/10.. ', 'Training Loss: 0.817.. ', 'Test Loss: 0.391.. ', 'Test Accuracy: 0.902')\n",
      "('Epoch: 7/10.. ', 'Training Loss: 0.721.. ', 'Test Loss: 0.374.. ', 'Test Accuracy: 0.905')\n",
      "('Epoch: 7/10.. ', 'Training Loss: 0.754.. ', 'Test Loss: 0.365.. ', 'Test Accuracy: 0.911')\n",
      "('Epoch: 8/10.. ', 'Training Loss: 0.661.. ', 'Test Loss: 0.397.. ', 'Test Accuracy: 0.894')\n",
      "('Epoch: 8/10.. ', 'Training Loss: 0.669.. ', 'Test Loss: 0.394.. ', 'Test Accuracy: 0.898')\n",
      "('Epoch: 8/10.. ', 'Training Loss: 0.753.. ', 'Test Loss: 0.354.. ', 'Test Accuracy: 0.909')\n",
      "('Epoch: 8/10.. ', 'Training Loss: 0.673.. ', 'Test Loss: 0.401.. ', 'Test Accuracy: 0.900')\n",
      "('Epoch: 8/10.. ', 'Training Loss: 0.676.. ', 'Test Loss: 0.404.. ', 'Test Accuracy: 0.886')\n",
      "('Epoch: 8/10.. ', 'Training Loss: 0.824.. ', 'Test Loss: 0.404.. ', 'Test Accuracy: 0.903')\n",
      "('Epoch: 8/10.. ', 'Training Loss: 0.715.. ', 'Test Loss: 0.415.. ', 'Test Accuracy: 0.887')\n",
      "('Epoch: 8/10.. ', 'Training Loss: 0.637.. ', 'Test Loss: 0.397.. ', 'Test Accuracy: 0.898')\n",
      "('Epoch: 8/10.. ', 'Training Loss: 0.760.. ', 'Test Loss: 0.416.. ', 'Test Accuracy: 0.900')\n",
      "('Epoch: 8/10.. ', 'Training Loss: 0.708.. ', 'Test Loss: 0.396.. ', 'Test Accuracy: 0.907')\n",
      "('Epoch: 9/10.. ', 'Training Loss: 0.446.. ', 'Test Loss: 0.388.. ', 'Test Accuracy: 0.905')\n",
      "('Epoch: 9/10.. ', 'Training Loss: 0.761.. ', 'Test Loss: 0.401.. ', 'Test Accuracy: 0.894')\n",
      "('Epoch: 9/10.. ', 'Training Loss: 0.720.. ', 'Test Loss: 0.356.. ', 'Test Accuracy: 0.915')\n",
      "('Epoch: 9/10.. ', 'Training Loss: 0.671.. ', 'Test Loss: 0.421.. ', 'Test Accuracy: 0.900')\n",
      "('Epoch: 9/10.. ', 'Training Loss: 0.689.. ', 'Test Loss: 0.418.. ', 'Test Accuracy: 0.901')\n",
      "('Epoch: 9/10.. ', 'Training Loss: 0.710.. ', 'Test Loss: 0.371.. ', 'Test Accuracy: 0.905')\n",
      "('Epoch: 9/10.. ', 'Training Loss: 0.697.. ', 'Test Loss: 0.380.. ', 'Test Accuracy: 0.911')\n",
      "('Epoch: 9/10.. ', 'Training Loss: 0.670.. ', 'Test Loss: 0.422.. ', 'Test Accuracy: 0.895')\n",
      "('Epoch: 9/10.. ', 'Training Loss: 0.704.. ', 'Test Loss: 0.459.. ', 'Test Accuracy: 0.895')\n",
      "('Epoch: 9/10.. ', 'Training Loss: 0.685.. ', 'Test Loss: 0.414.. ', 'Test Accuracy: 0.889')\n",
      "('Epoch: 10/10.. ', 'Training Loss: 0.257.. ', 'Test Loss: 0.390.. ', 'Test Accuracy: 0.897')\n",
      "('Epoch: 10/10.. ', 'Training Loss: 0.662.. ', 'Test Loss: 0.367.. ', 'Test Accuracy: 0.910')\n",
      "('Epoch: 10/10.. ', 'Training Loss: 0.714.. ', 'Test Loss: 0.451.. ', 'Test Accuracy: 0.900')\n",
      "('Epoch: 10/10.. ', 'Training Loss: 0.602.. ', 'Test Loss: 0.438.. ', 'Test Accuracy: 0.904')\n",
      "('Epoch: 10/10.. ', 'Training Loss: 0.669.. ', 'Test Loss: 0.419.. ', 'Test Accuracy: 0.905')\n",
      "('Epoch: 10/10.. ', 'Training Loss: 0.752.. ', 'Test Loss: 0.413.. ', 'Test Accuracy: 0.910')\n",
      "('Epoch: 10/10.. ', 'Training Loss: 0.542.. ', 'Test Loss: 0.372.. ', 'Test Accuracy: 0.917')\n",
      "('Epoch: 10/10.. ', 'Training Loss: 0.625.. ', 'Test Loss: 0.392.. ', 'Test Accuracy: 0.898')\n",
      "('Epoch: 10/10.. ', 'Training Loss: 0.756.. ', 'Test Loss: 0.420.. ', 'Test Accuracy: 0.894')\n",
      "('Epoch: 10/10.. ', 'Training Loss: 0.693.. ', 'Test Loss: 0.408.. ', 'Test Accuracy: 0.903')\n",
      "('Epoch: 10/10.. ', 'Training Loss: 0.767.. ', 'Test Loss: 0.410.. ', 'Test Accuracy: 0.906')\n",
      "finished training\n"
     ]
    }
   ],
   "source": [
    "for e in range(epochs):\n",
    "    model.train()\n",
    "    running_loss = 0\n",
    "    for ii, (inputs, labels) in enumerate(trainloader):\n",
    "        steps += 1\n",
    "        \n",
    "        inputs, labels = inputs.to(processor), labels.to(processor)\n",
    "        \n",
    "        optimizer.zero_grad()\n",
    "        \n",
    "        # Forward and backward passes\n",
    "        outputs = model.forward(inputs)\n",
    "        loss = criterion(outputs, labels)\n",
    "        loss.backward()\n",
    "        optimizer.step()\n",
    "        \n",
    "        running_loss += loss.item()\n",
    "        \n",
    "        if steps % print_every == 0:\n",
    "            # Make sure network is in eval mode for inference\n",
    "            model.eval()\n",
    "            \n",
    "            # Turn off gradients for validation, saves memory and computations\n",
    "            with torch.no_grad():\n",
    "                test_loss, accuracy = validation(model, validloader, criterion)\n",
    "                \n",
    "            print(\"Epoch: {}/{}.. \".format(e+1, epochs),\n",
    "                  \"Training Loss: {:.3f}.. \".format(running_loss/print_every),\n",
    "                  \"Test Loss: {:.3f}.. \".format(test_loss/len(testloader)),\n",
    "                  \"Test Accuracy: {:.3f}\".format(accuracy/len(testloader)))\n",
    "            \n",
    "            # Make sure training is back on\n",
    "            running_loss = 0\n",
    "            model.train()\n",
    "            \n",
    "print('finished training')            "
   ]
  },
  {
   "cell_type": "markdown",
   "metadata": {
    "colab_type": "text",
    "id": "TfR9oZ8U7Ryl"
   },
   "source": [
    "## Testing your network\n",
    "\n",
    "It's good practice to test your trained network on test data, images the network has never seen either in training or validation. This will give you a good estimate for the model's performance on completely new images. Run the test images through the network and measure the accuracy, the same way you did validation. You should be able to reach around 70% accuracy on the test set if the model has been trained well."
   ]
  },
  {
   "cell_type": "code",
   "execution_count": 18,
   "metadata": {
    "colab": {
     "base_uri": "https://localhost:8080/",
     "height": 34
    },
    "colab_type": "code",
    "id": "xeVq2FlE7Rym",
    "outputId": "d18e78a2-ec48-46c4-fa65-b81285abd8e2"
   },
   "outputs": [
    {
     "name": "stdout",
     "output_type": "stream",
     "text": [
      "Accuracy of the network on the 26 test images: 90%\n"
     ]
    }
   ],
   "source": [
    "model.eval()\n",
    "correct = 0\n",
    "total = 0\n",
    "count = 0\n",
    "with torch.no_grad():\n",
    "    for data in validloader:\n",
    "        count += 1\n",
    "        images, labels = data\n",
    "        if processor == 'cuda':\n",
    "            images = images.cuda()\n",
    "            labels = labels.cuda()\n",
    "        outputs = model(images)\n",
    "        _, predicted = torch.max(outputs.data, 1)\n",
    "        total += labels.size(0)\n",
    "        correct += (predicted == labels).sum().item()\n",
    "\n",
    "print('Accuracy of the network on the {} test images: {}%'.format(count, (100 * correct / total)))"
   ]
  },
  {
   "cell_type": "code",
   "execution_count": null,
   "metadata": {
    "colab": {},
    "colab_type": "code",
    "id": "9dhiuvRb7Ryp"
   },
   "outputs": [],
   "source": []
  },
  {
   "cell_type": "markdown",
   "metadata": {
    "colab_type": "text",
    "id": "pT2KIl_L7Ryr"
   },
   "source": [
    "## Save the checkpoint\n",
    "\n",
    "Now that your network is trained, save the model so you can load it later for making predictions. You probably want to save other things such as the mapping of classes to indices which you get from one of the image datasets: `image_datasets['train'].class_to_idx`. You can attach this to the model as an attribute which makes inference easier later on.\n",
    "\n",
    "```model.class_to_idx = image_datasets['train'].class_to_idx```\n",
    "\n",
    "Remember that you'll want to completely rebuild the model later so you can use it for inference. Make sure to include any information you need in the checkpoint. If you want to load the model and keep training, you'll want to save the number of epochs as well as the optimizer state, `optimizer.state_dict`. You'll likely want to use this trained model in the next part of the project, so best to save it now."
   ]
  },
  {
   "cell_type": "code",
   "execution_count": 19,
   "metadata": {
    "colab": {
     "base_uri": "https://localhost:8080/",
     "height": 74
    },
    "colab_type": "code",
    "id": "g2uU52OJ6eVo",
    "outputId": "3100a4dd-41ea-4c3f-964f-e6110dc7be90"
   },
   "outputs": [
    {
     "name": "stdout",
     "output_type": "stream",
     "text": [
      "Drive already mounted at /content/gdrive; to attempt to forcibly remount, call drive.mount(\"/content/gdrive\", force_remount=True).\n"
     ]
    }
   ],
   "source": [
    "from google.colab import drive\n",
    "drive.mount('/content/gdrive') # do this if you are using google colab"
   ]
  },
  {
   "cell_type": "code",
   "execution_count": null,
   "metadata": {
    "colab": {},
    "colab_type": "code",
    "id": "h77iMTrw7Rys"
   },
   "outputs": [],
   "source": [
    "def save_checkpoint(filepath, checkpoint):\n",
    "    torch.save(checkpoint, filepath)\n",
    "    \n",
    "save_params_dict = {'input_size': input_size,\n",
    "                   'hidden_size': hidden_size,\n",
    "                   'output_size': output_size,\n",
    "                   'dropout_per': dropout_per,\n",
    "                          'arch': arch,\n",
    "                    'classifier': classifier,\n",
    "                 'learning_rate': learning_rate,\n",
    "                'epochs_trained': epochs, \n",
    "                   'img_mapping': train_data.class_to_idx,\n",
    "                     'optimizer': optimizer.state_dict(),\n",
    "                   'model_state': model.state_dict()}\n",
    "\n",
    "save_checkpoint('checkpoint_flower.pth',save_params_dict)    \n"
   ]
  },
  {
   "cell_type": "code",
   "execution_count": null,
   "metadata": {
    "colab": {},
    "colab_type": "code",
    "id": "pgRK-P6561B5"
   },
   "outputs": [],
   "source": [
    "path = \"/content/gdrive/My Drive/classifier.pt\" \n",
    "torch.save(model.state_dict(), path) # do this if you are using google colab"
   ]
  },
  {
   "cell_type": "markdown",
   "metadata": {
    "colab_type": "text",
    "id": "5Mryxd0Z7Ryu"
   },
   "source": [
    "## Loading the checkpoint\n",
    "\n",
    "At this point it's good to write a function that can load a checkpoint and rebuild the model. That way you can come back to this project and keep working on it without having to retrain the network."
   ]
  },
  {
   "cell_type": "code",
   "execution_count": null,
   "metadata": {
    "colab": {},
    "colab_type": "code",
    "id": "VJ6MNIbq7Ryu"
   },
   "outputs": [],
   "source": [
    "def load_checkpoint(filepath):\n",
    "    checkpoint = torch.load(filepath)\n",
    "    model = getattr(torchvision.models, checkpoint['arch'])(pretrained=True)\n",
    "    # Feature parameters\n",
    "    for x in model.parameters():\n",
    "        x.requires_grad = False\n",
    "\n",
    "    # Load model parameters\n",
    "    model.classifier = checkpoint['classifier']\n",
    "    model.load_state_dict(checkpoint['model_state'])\n",
    "    model.class_to_idx = checkpoint['img_mapping']\n",
    "    model.optimizer = checkpoint['optimizer']\n",
    "    \n",
    "    with open('cat_to_name.json', 'r') as json_file:\n",
    "      cat_to_name = json.load(json_file)\n",
    "\n",
    "    return model, model.class_to_idx"
   ]
  },
  {
   "cell_type": "code",
   "execution_count": null,
   "metadata": {
    "colab": {},
    "colab_type": "code",
    "id": "wHXKnMoy7Ryw"
   },
   "outputs": [],
   "source": [
    "model, model_class = load_checkpoint('checkpoint_flower.pth')"
   ]
  },
  {
   "cell_type": "markdown",
   "metadata": {
    "colab_type": "text",
    "id": "mLu1voXi7Ryy"
   },
   "source": [
    "# Inference for classification\n",
    "\n",
    "Now you'll write a function to use a trained network for inference. That is, you'll pass an image into the network and predict the class of the flower in the image. Write a function called `predict` that takes an image and a model, then returns the top $K$ most likely classes along with the probabilities. It should look like \n",
    "\n",
    "```python\n",
    "probs, classes = predict(image_path, model)\n",
    "print(probs)\n",
    "print(classes)\n",
    "> [ 0.01558163  0.01541934  0.01452626  0.01443549  0.01407339]\n",
    "> ['70', '3', '45', '62', '55']\n",
    "```\n",
    "\n",
    "First you'll need to handle processing the input image such that it can be used in your network. \n",
    "\n",
    "## Image Preprocessing\n",
    "\n",
    "You'll want to use `PIL` to load the image ([documentation](https://pillow.readthedocs.io/en/latest/reference/Image.html)). It's best to write a function that preprocesses the image so it can be used as input for the model. This function should process the images in the same manner used for training. \n",
    "\n",
    "First, resize the images where the shortest side is 256 pixels, keeping the aspect ratio. This can be done with the [`thumbnail`](http://pillow.readthedocs.io/en/3.1.x/reference/Image.html#PIL.Image.Image.thumbnail) or [`resize`](http://pillow.readthedocs.io/en/3.1.x/reference/Image.html#PIL.Image.Image.thumbnail) methods. Then you'll need to crop out the center 224x224 portion of the image.\n",
    "\n",
    "Color channels of images are typically encoded as integers 0-255, but the model expected floats 0-1. You'll need to convert the values. It's easiest with a Numpy array, which you can get from a PIL image like so `np_image = np.array(pil_image)`.\n",
    "\n",
    "As before, the network expects the images to be normalized in a specific way. For the means, it's `[0.485, 0.456, 0.406]` and for the standard deviations `[0.229, 0.224, 0.225]`. You'll want to subtract the means from each color channel, then divide by the standard deviation. \n",
    "\n",
    "And finally, PyTorch expects the color channel to be the first dimension but it's the third dimension in the PIL image and Numpy array. You can reorder dimensions using [`ndarray.transpose`](https://docs.scipy.org/doc/numpy-1.13.0/reference/generated/numpy.ndarray.transpose.html). The color channel needs to be first and retain the order of the other two dimensions."
   ]
  },
  {
   "cell_type": "code",
   "execution_count": null,
   "metadata": {
    "colab": {},
    "colab_type": "code",
    "id": "75T1gK-n7Ryz"
   },
   "outputs": [],
   "source": [
    "def process_image(image):\n",
    "    img = Image.open(image)\n",
    "    size = 256\n",
    "    width, height = img.size\n",
    "    shortest_side = min(width,height)\n",
    "    img = img.resize((int((width/shortest_side)*size), int((height/shortest_side)*size)))\n",
    "    img = img.crop((0,0,224,224))\n",
    "    means = np.array([0.485, 0.456, 0.406])\n",
    "    std = np.array([0.229, 0.224, 0.225])\n",
    "    p_image = np.array(img)\n",
    "    np_image_float = np.array(img)/255\n",
    "    np_image_normalized = (np_image_float-means)/std\n",
    "    np_image_transposed = np_image_normalized.transpose((2,0,1))\n",
    "    \n",
    "    return torch.from_numpy(np_image_transposed)   "
   ]
  },
  {
   "cell_type": "code",
   "execution_count": 29,
   "metadata": {
    "colab": {
     "base_uri": "https://localhost:8080/",
     "height": 425
    },
    "colab_type": "code",
    "id": "YnfFmG9n7Ry0",
    "outputId": "cab5df7b-0874-41b3-a15a-ef607bbcc99b"
   },
   "outputs": [
    {
     "data": {
      "text/plain": [
       "tensor([[[-2.1179, -2.1179, -2.1179,  ..., -2.1179, -2.1179, -2.1179],\n",
       "         [-2.1179, -2.1179, -2.1179,  ..., -2.1179, -2.1179, -2.1179],\n",
       "         [-2.1179, -2.1179, -2.1179,  ..., -2.1179, -2.1179, -2.1179],\n",
       "         ...,\n",
       "         [-2.1179, -2.1179, -2.1179,  ..., -2.1179, -2.1179, -2.1179],\n",
       "         [-2.1179, -2.1179, -2.1179,  ..., -2.1179, -2.1179, -2.1179],\n",
       "         [-2.1179, -2.1179, -2.1179,  ..., -2.1179, -2.1179, -2.1179]],\n",
       "\n",
       "        [[-2.0357, -2.0357, -2.0357,  ..., -2.0357, -2.0357, -2.0357],\n",
       "         [-2.0357, -2.0357, -2.0357,  ..., -2.0357, -2.0357, -2.0357],\n",
       "         [-2.0357, -2.0357, -2.0357,  ..., -2.0357, -2.0357, -2.0357],\n",
       "         ...,\n",
       "         [-2.0357, -2.0357, -2.0357,  ..., -2.0357, -2.0357, -2.0357],\n",
       "         [-2.0357, -2.0357, -2.0357,  ..., -2.0357, -2.0357, -2.0357],\n",
       "         [-2.0357, -2.0357, -2.0357,  ..., -2.0357, -2.0357, -2.0357]],\n",
       "\n",
       "        [[-1.8044, -1.8044, -1.8044,  ..., -1.8044, -1.8044, -1.8044],\n",
       "         [-1.8044, -1.8044, -1.8044,  ..., -1.8044, -1.8044, -1.8044],\n",
       "         [-1.8044, -1.8044, -1.8044,  ..., -1.8044, -1.8044, -1.8044],\n",
       "         ...,\n",
       "         [-1.8044, -1.8044, -1.8044,  ..., -1.8044, -1.8044, -1.8044],\n",
       "         [-1.8044, -1.8044, -1.8044,  ..., -1.8044, -1.8044, -1.8044],\n",
       "         [-1.8044, -1.8044, -1.8044,  ..., -1.8044, -1.8044, -1.8044]]],\n",
       "       dtype=torch.float64)"
      ]
     },
     "execution_count": 29,
     "metadata": {
      "tags": []
     },
     "output_type": "execute_result"
    }
   ],
   "source": [
    "process_image('flower_data/valid/10/image_07094.jpg')"
   ]
  },
  {
   "cell_type": "markdown",
   "metadata": {
    "colab_type": "text",
    "id": "5wsC9uAF7Ry2"
   },
   "source": [
    "To check your work, the function below converts a PyTorch tensor and displays it in the notebook. If your `process_image` function works, running the output through this function should return the original image (except for the cropped out portions)."
   ]
  },
  {
   "cell_type": "code",
   "execution_count": 32,
   "metadata": {
    "colab": {
     "base_uri": "https://localhost:8080/",
     "height": 265
    },
    "colab_type": "code",
    "id": "ZJal333b7Ry2",
    "outputId": "7913d236-8ff5-4804-d562-08591c70e3f6"
   },
   "outputs": [
    {
     "data": {
      "text/plain": [
       "<matplotlib.axes._subplots.AxesSubplot at 0x7f3c7ba45650>"
      ]
     },
     "execution_count": 32,
     "metadata": {
      "tags": []
     },
     "output_type": "execute_result"
    },
    {
     "data": {
      "image/png": "[encoded data removed]",
      "text/plain": [
       "<matplotlib.figure.Figure at 0x7f3c7bac2d10>"
      ]
     },
     "metadata": {
      "image/png": {
       "height": 231,
       "width": 231
      },
      "tags": []
     },
     "output_type": "display_data"
    }
   ],
   "source": [
    "def imshow(image, ax=None, title=None, normalize=True):\n",
    "\n",
    "    if ax is None:\n",
    "        fig, ax = plt.subplots()\n",
    "    image = image.numpy().transpose((1, 2, 0))\n",
    "\n",
    "    if normalize:\n",
    "        mean = np.array([0.485, 0.456, 0.406])\n",
    "        std = np.array([0.229, 0.224, 0.225])\n",
    "        image = std * image + mean\n",
    "        image = np.clip(image, 0, 1)\n",
    "\n",
    "    ax.imshow(image)\n",
    "    ax.spines['top'].set_visible(False)\n",
    "    ax.spines['right'].set_visible(False)\n",
    "    ax.spines['left'].set_visible(False)\n",
    "    ax.spines['bottom'].set_visible(False)\n",
    "    ax.tick_params(axis='both', length=0)\n",
    "    ax.set_xticklabels('')\n",
    "    ax.set_yticklabels('')\n",
    "\n",
    "    return ax\n",
    "imshow(process_image('flower_data/valid/10/image_07094.jpg'))"
   ]
  },
  {
   "cell_type": "markdown",
   "metadata": {
    "colab_type": "text",
    "id": "hvh1H-bK7Ry4"
   },
   "source": [
    "## Class Prediction\n",
    "\n",
    "Once you can get images in the correct format, it's time to write a function for making predictions with your model. A common practice is to predict the top 5 or so (usually called top-$K$) most probable classes. You'll want to calculate the class probabilities then find the $K$ largest values.\n",
    "\n",
    "To get the top $K$ largest values in a tensor use [`x.topk(k)`](http://pytorch.org/docs/master/torch.html#torch.topk). This method returns both the highest `k` probabilities and the indices of those probabilities corresponding to the classes. You need to convert from these indices to the actual class labels using `class_to_idx` which hopefully you added to the model or from an `ImageFolder` you used to load the data ([see here](#Save-the-checkpoint)). Make sure to invert the dictionary so you get a mapping from index to class as well.\n",
    "\n",
    "Again, this method should take a path to an image and a model checkpoint, then return the probabilities and classes.\n",
    "\n",
    "```python\n",
    "probs, classes = predict(image_path, model)\n",
    "print(probs)\n",
    "print(classes)\n",
    "> [ 0.01558163  0.01541934  0.01452626  0.01443549  0.01407339]\n",
    "> ['70', '3', '45', '62', '55']\n",
    "```"
   ]
  },
  {
   "cell_type": "code",
   "execution_count": null,
   "metadata": {
    "colab": {},
    "colab_type": "code",
    "id": "yvrl8TqE7Ry4"
   },
   "outputs": [],
   "source": [
    "def predict(image_path, model, topk=5):\n",
    "\n",
    "    # TODO: Implement the code to predict the class from an image file\n",
    "    img = process_image(image_path)\n",
    "    img = img.unsqueeze(0)\n",
    "    model.type(torch.DoubleTensor)   \n",
    "    \n",
    "    model.eval()\n",
    "\n",
    "    with torch.no_grad():\n",
    "        probability = model.forward(img)\n",
    "\n",
    "    probs, classes = torch.exp(probability).topk(topk)  \n",
    "    np_prob = np.asarray(probs)[0]\n",
    "    np_classes = np.asarray(classes)[0]    \n",
    "    \n",
    "    return (np_prob, np_classes)\n"
   ]
  },
  {
   "cell_type": "code",
   "execution_count": null,
   "metadata": {
    "colab": {},
    "colab_type": "code",
    "id": "2HyLKONu7Ry6"
   },
   "outputs": [],
   "source": [
    "predict_flower = 'flower_data/valid/102/image_08002.jpg'\n",
    "flower_probs, flower_classes = predict(predict_flower, model, 5)"
   ]
  },
  {
   "cell_type": "code",
   "execution_count": null,
   "metadata": {
    "colab": {},
    "colab_type": "code",
    "id": "4NXaaJ8D7Ry7"
   },
   "outputs": [],
   "source": [
    "def get_folder_key(mydict,value):\n",
    "    return list(mydict.keys())[list(mydict.values()).index(value)]\n",
    "\n",
    "def get_class_value(key):\n",
    "    return cat_to_name[key] "
   ]
  },
  {
   "cell_type": "markdown",
   "metadata": {
    "colab_type": "text",
    "id": "pFlqHLyl7Ry8"
   },
   "source": [
    "## Sanity Checking\n",
    "\n",
    "Now that you can use a trained model for predictions, check to make sure it makes sense. Even if the testing accuracy is high, it's always good to check that there aren't obvious bugs. Use `matplotlib` to plot the probabilities for the top 5 classes as a bar graph, along with the input image. It should look like this:\n",
    "\n",
    "<img src='assets/inference_example.png' width=300px>\n",
    "\n",
    "You can convert from the class integer encoding to actual flower names with the `cat_to_name.json` file (should have been loaded earlier in the notebook). To show a PyTorch tensor as an image, use the `imshow` function defined above."
   ]
  },
  {
   "cell_type": "code",
   "execution_count": 36,
   "metadata": {
    "colab": {
     "base_uri": "https://localhost:8080/",
     "height": 102
    },
    "colab_type": "code",
    "id": "xsvOALCG7Ry9",
    "outputId": "0f7dcc3d-cdf8-4fec-dd74-b3961a6027fc"
   },
   "outputs": [
    {
     "name": "stdout",
     "output_type": "stream",
     "text": [
      "The image has a 80.249% probability that is a foxglove\n",
      "The image has a 11.3793% probability that is a passion flower\n",
      "The image has a 8.13% probability that is a japanese anemone\n",
      "The image has a 0.116% probability that is a canterbury bells\n",
      "The image has a 0.0482% probability that is a corn poppy\n"
     ]
    }
   ],
   "source": [
    "# DONE: Display an image along with the top 5 classes\n",
    "flower_names = []\n",
    "for i in range(len(flower_probs)):\n",
    "    most_prob = str(round(flower_probs.item(i)*100, 4))\n",
    "    most_prob_flower_id = flower_classes.item(i)\n",
    "    most_prob_flower_id_folder = get_folder_key(train_data.class_to_idx,most_prob_flower_id)\n",
    "    most_prob_flower = get_class_value(most_prob_flower_id_folder)\n",
    "    flower_names.append(most_prob_flower)\n",
    "    print(\"The image has a {}% probability that is a {}\".format(most_prob,most_prob_flower))"
   ]
  },
  {
   "cell_type": "code",
   "execution_count": 37,
   "metadata": {
    "colab": {
     "base_uri": "https://localhost:8080/",
     "height": 409
    },
    "colab_type": "code",
    "id": "ryu0ZZ4p7RzA",
    "outputId": "578fec4b-da46-498b-8570-0df95dee19e4"
   },
   "outputs": [
    {
     "data": {
      "image/png": "[encoded data removed]",
      "text/plain": [
       "<matplotlib.figure.Figure at 0x7f3c7d415350>"
      ]
     },
     "metadata": {
      "image/png": {
       "height": 392,
       "width": 281
      },
      "tags": []
     },
     "output_type": "display_data"
    }
   ],
   "source": [
    "# DONE: Display an image along with the top 5 classes\n",
    "def view_classify(img, probs, labels):\n",
    "\n",
    "    #display 2 tables, same horizontal line\n",
    "    fig, (ax1, ax2) = plt.subplots(figsize=(4,6), nrows=2)\n",
    "    y_pos = np.arange(len(probs))\n",
    "    \n",
    "    #print image\n",
    "    image = process_image(img)\n",
    "    image = image.numpy().transpose((1, 2, 0))\n",
    "    mean = np.array([0.485, 0.456, 0.406])\n",
    "    std = np.array([0.229, 0.224, 0.225])\n",
    "    image = std * image + mean\n",
    "    image = np.clip(image, 0, 1)\n",
    "    ax1.imshow(image)\n",
    "    ax1.set_title(labels[0].title())   \n",
    "    ax1.axis('off')\n",
    "\n",
    "    #draw graph\n",
    "    ax2.barh(y_pos, probs, align='center',color='blue')\n",
    "    ax2.set_aspect(0.1)\n",
    "    ax2.set_yticks(y_pos)\n",
    "    ax2.set_yticklabels(labels)\n",
    "    ax2.set_title('Flower Probability')\n",
    "    ax2.set_xlim(0, 1.1)\n",
    "    ax2.invert_yaxis()  # labels read top-to-bottom\n",
    "    ax2.set_xlabel('Probability') \n",
    "\n",
    "    plt.tight_layout()\n",
    "    \n",
    "view_classify(predict_flower,flower_probs,flower_names)"
   ]
  },
  {
   "cell_type": "code",
   "execution_count": null,
   "metadata": {
    "colab": {},
    "colab_type": "code",
    "id": "hgeHCdGD7RzC"
   },
   "outputs": [],
   "source": []
  }
 ],
 "metadata": {
  "accelerator": "GPU",
  "colab": {
   "collapsed_sections": [
    "pT2KIl_L7Ryr",
    "5Mryxd0Z7Ryu",
    "hvh1H-bK7Ry4",
    "pFlqHLyl7Ry8"
   ],
   "name": "Image Classifier Project.ipynb",
   "provenance": [],
   "toc_visible": true,
   "version": "0.3.2"
  },
  "kernelspec": {
   "display_name": "Python 3",
   "language": "python",
   "name": "python3"
  },
  "language_info": {
   "codemirror_mode": {
    "name": "ipython",
    "version": 2
   },
   "file_extension": ".py",
   "mimetype": "text/x-python",
   "name": "python",
   "nbconvert_exporter": "python",
   "pygments_lexer": "ipython2",
   "version": "2.7.15"
  }
 },
 "nbformat": 4,
 "nbformat_minor": 2
}
